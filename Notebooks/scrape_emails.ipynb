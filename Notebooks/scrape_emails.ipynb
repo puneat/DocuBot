{
 "cells": [
  {
   "cell_type": "code",
   "execution_count": 7,
   "metadata": {},
   "outputs": [],
   "source": [
    "async def greet_user(graph: Graph):\n",
    "    # TODO\n",
    "    return\n",
    "\n",
    "async def display_access_token(graph: Graph):\n",
    "    token = await graph.get_user_token()\n",
    "    print('User token:', token, '\\n')\n",
    "\n",
    "async def list_inbox(graph: Graph):\n",
    "    # TODO\n",
    "    return\n",
    "\n",
    "async def send_mail(graph: Graph):\n",
    "    # TODO\n",
    "    return\n",
    "\n",
    "async def make_graph_call(graph: Graph):\n",
    "    # TODO\n",
    "    return"
   ]
  },
  {
   "cell_type": "code",
   "execution_count": 8,
   "metadata": {},
   "outputs": [],
   "source": [
    "import asyncio\n",
    "import configparser\n",
    "from msgraph.generated.models.o_data_errors.o_data_error import ODataError\n",
    "from graph import Graph\n",
    "\n",
    "async def main():\n",
    "    print('Python Graph Tutorial\\n')\n",
    "\n",
    "    # Load settings\n",
    "    config = configparser.ConfigParser()\n",
    "    config.read(['config.cfg', 'config.dev.cfg'])\n",
    "    azure_settings = config['azure']\n",
    "\n",
    "    graph: Graph = Graph(azure_settings)\n",
    "\n",
    "    await greet_user(graph)\n",
    "\n",
    "    choice = -1\n",
    "\n",
    "    while choice != 0:\n",
    "        print('Please choose one of the following options:')\n",
    "        print('0. Exit')\n",
    "        print('1. Display access token')\n",
    "        print('2. List my inbox')\n",
    "        print('3. Send mail')\n",
    "        print('4. Make a Graph call')\n",
    "\n",
    "        try:\n",
    "            choice = int(input())\n",
    "        except ValueError:\n",
    "            choice = -1\n",
    "\n",
    "        try:\n",
    "            if choice == 0:\n",
    "                print('Goodbye...')\n",
    "            elif choice == 1:\n",
    "                await display_access_token(graph)\n",
    "            elif choice == 2:\n",
    "                await list_inbox(graph)\n",
    "            elif choice == 3:\n",
    "                await send_mail(graph)\n",
    "            elif choice == 4:\n",
    "                await make_graph_call(graph)\n",
    "            else:\n",
    "                print('Invalid choice!\\n')\n",
    "        except ODataError as odata_error:\n",
    "            print('Error:')\n",
    "            if odata_error.error:\n",
    "                print(odata_error.error.code, odata_error.error.message)"
   ]
  },
  {
   "cell_type": "code",
   "execution_count": 10,
   "metadata": {},
   "outputs": [
    {
     "data": {
      "text/plain": [
       "<coroutine object main at 0x0000020FC29B84C0>"
      ]
     },
     "execution_count": 10,
     "metadata": {},
     "output_type": "execute_result"
    }
   ],
   "source": [
    "main()"
   ]
  }
 ],
 "metadata": {
  "kernelspec": {
   "display_name": "base",
   "language": "python",
   "name": "python3"
  },
  "language_info": {
   "codemirror_mode": {
    "name": "ipython",
    "version": 3
   },
   "file_extension": ".py",
   "mimetype": "text/x-python",
   "name": "python",
   "nbconvert_exporter": "python",
   "pygments_lexer": "ipython3",
   "version": "3.9.7"
  },
  "orig_nbformat": 4
 },
 "nbformat": 4,
 "nbformat_minor": 2
}
